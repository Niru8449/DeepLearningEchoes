{
 "cells": [
  {
   "cell_type": "code",
   "execution_count": 1,
   "id": "3dc6b984",
   "metadata": {},
   "outputs": [],
   "source": [
    "import tensorflow as tf"
   ]
  },
  {
   "cell_type": "code",
   "execution_count": 2,
   "id": "b9c6c37a",
   "metadata": {},
   "outputs": [],
   "source": [
    "daily_sales_number = [23, 22, -108, 31, -1, 32, 34, 31]"
   ]
  },
  {
   "cell_type": "code",
   "execution_count": 3,
   "id": "9d0118d3",
   "metadata": {},
   "outputs": [],
   "source": [
    "tf_dataset = tf.data.Dataset.from_tensor_slices(daily_sales_number)"
   ]
  },
  {
   "cell_type": "code",
   "execution_count": 4,
   "id": "ea9edcdc",
   "metadata": {},
   "outputs": [
    {
     "data": {
      "text/plain": [
       "<TensorSliceDataset element_spec=TensorSpec(shape=(), dtype=tf.int32, name=None)>"
      ]
     },
     "execution_count": 4,
     "metadata": {},
     "output_type": "execute_result"
    }
   ],
   "source": [
    "tf_dataset"
   ]
  },
  {
   "cell_type": "code",
   "execution_count": 5,
   "id": "54a6b3ee",
   "metadata": {},
   "outputs": [
    {
     "name": "stdout",
     "output_type": "stream",
     "text": [
      "tf.Tensor(23, shape=(), dtype=int32)\n",
      "tf.Tensor(22, shape=(), dtype=int32)\n",
      "tf.Tensor(-108, shape=(), dtype=int32)\n",
      "tf.Tensor(31, shape=(), dtype=int32)\n",
      "tf.Tensor(-1, shape=(), dtype=int32)\n",
      "tf.Tensor(32, shape=(), dtype=int32)\n",
      "tf.Tensor(34, shape=(), dtype=int32)\n",
      "tf.Tensor(31, shape=(), dtype=int32)\n"
     ]
    }
   ],
   "source": [
    "for sales in tf_dataset :\n",
    "    print(sales)"
   ]
  },
  {
   "cell_type": "code",
   "execution_count": 6,
   "id": "b3c9c715",
   "metadata": {},
   "outputs": [
    {
     "name": "stdout",
     "output_type": "stream",
     "text": [
      "23\n",
      "22\n",
      "-108\n",
      "31\n",
      "-1\n",
      "32\n",
      "34\n",
      "31\n"
     ]
    }
   ],
   "source": [
    "for sales in tf_dataset :\n",
    "    print(sales.numpy())"
   ]
  },
  {
   "cell_type": "code",
   "execution_count": 7,
   "id": "eae5e03f",
   "metadata": {},
   "outputs": [],
   "source": [
    "def print_sales(tf_dataset) : \n",
    "    for sales in tf_dataset.as_numpy_iterator() :\n",
    "        print(sales)"
   ]
  },
  {
   "cell_type": "code",
   "execution_count": 8,
   "id": "0e9cfb12",
   "metadata": {},
   "outputs": [
    {
     "name": "stdout",
     "output_type": "stream",
     "text": [
      "23\n",
      "22\n",
      "-108\n"
     ]
    }
   ],
   "source": [
    "for sales in tf_dataset.take(3) : \n",
    "    print(sales.numpy())"
   ]
  },
  {
   "cell_type": "code",
   "execution_count": 9,
   "id": "5869bcc0",
   "metadata": {},
   "outputs": [],
   "source": [
    "tf_dataset = tf_dataset.filter(lambda x : x>0)"
   ]
  },
  {
   "cell_type": "code",
   "execution_count": 10,
   "id": "a5743480",
   "metadata": {},
   "outputs": [
    {
     "name": "stdout",
     "output_type": "stream",
     "text": [
      "23\n",
      "22\n",
      "31\n",
      "32\n",
      "34\n",
      "31\n"
     ]
    }
   ],
   "source": [
    "print_sales(tf_dataset)"
   ]
  },
  {
   "cell_type": "code",
   "execution_count": 11,
   "id": "f8add4ee",
   "metadata": {},
   "outputs": [
    {
     "name": "stdout",
     "output_type": "stream",
     "text": [
      "1771\n",
      "1694\n",
      "2387\n",
      "2464\n",
      "2618\n",
      "2387\n"
     ]
    }
   ],
   "source": [
    "tf_dataset = tf_dataset.map(lambda x : x*77)\n",
    "print_sales(tf_dataset)"
   ]
  },
  {
   "cell_type": "code",
   "execution_count": 12,
   "id": "573c7258",
   "metadata": {},
   "outputs": [
    {
     "name": "stdout",
     "output_type": "stream",
     "text": [
      "1694\n",
      "1771\n",
      "2464\n",
      "2387\n",
      "2618\n",
      "2387\n"
     ]
    }
   ],
   "source": [
    "tf_dataset = tf_dataset.shuffle(2)\n",
    "print_sales(tf_dataset)"
   ]
  },
  {
   "cell_type": "code",
   "execution_count": 13,
   "id": "6c75a441",
   "metadata": {},
   "outputs": [
    {
     "name": "stdout",
     "output_type": "stream",
     "text": [
      "[1771 2387]\n",
      "[1694 2618]\n",
      "[2387 2464]\n"
     ]
    }
   ],
   "source": [
    "for sales_batch in tf_dataset.batch(2) : \n",
    "    print(sales_batch.numpy())"
   ]
  },
  {
   "cell_type": "code",
   "execution_count": 14,
   "id": "24158c5b",
   "metadata": {},
   "outputs": [
    {
     "name": "stdout",
     "output_type": "stream",
     "text": [
      "[1694 2387]\n",
      "[1771 2464]\n",
      "[2618 2387]\n"
     ]
    }
   ],
   "source": [
    "tf_dataset = tf.data.Dataset.from_tensor_slices(daily_sales_number)\n",
    "\n",
    "tf_dataset =  tf_dataset.filter(lambda x : x >0). map(lambda y : y*77).shuffle(2).batch(2)\n",
    "\n",
    "print_sales(tf_dataset)"
   ]
  },
  {
   "cell_type": "code",
   "execution_count": 15,
   "id": "91e8ae5f",
   "metadata": {},
   "outputs": [],
   "source": [
    "# for image in images_ds.take(3) : \n",
    "#     print(image)"
   ]
  },
  {
   "cell_type": "code",
   "execution_count": 16,
   "id": "ccb8a4ba",
   "metadata": {},
   "outputs": [
    {
     "name": "stdout",
     "output_type": "stream",
     "text": [
      "b'images\\\\cheetah_images\\\\1_000_ Cheetah Pictures.jpg'\n",
      "b'images\\\\cheetah_images\\\\1_366 Cheetah Running Stock Photos.jpg'\n",
      "b'images\\\\cheetah_images\\\\212_255 Cheetah Images_ Stock Photos (1).jpg'\n"
     ]
    }
   ],
   "source": [
    "images_ds = tf.data.Dataset.list_files('images/*/*', shuffle = False)\n",
    "\n",
    "def print_images(images_ds) : \n",
    "    for image in images_ds : \n",
    "        print(image.numpy())\n",
    "        \n",
    "print_images(images_ds.take(3))"
   ]
  },
  {
   "cell_type": "code",
   "execution_count": 17,
   "id": "7d4bd9bd",
   "metadata": {},
   "outputs": [],
   "source": [
    "images_ds = images_ds.shuffle(200)"
   ]
  },
  {
   "cell_type": "code",
   "execution_count": 18,
   "id": "c73a3ab4",
   "metadata": {},
   "outputs": [
    {
     "name": "stdout",
     "output_type": "stream",
     "text": [
      "b'images\\\\lion_images\\\\A Day in the Life of a Lion Tracker.jpg'\n",
      "b'images\\\\lion_images\\\\world lion day_ World Lion Day 2022.jpg'\n",
      "b'images\\\\cheetah_images\\\\Cheetah_ Faster than most cars but low.jpeg'\n"
     ]
    }
   ],
   "source": [
    "print_images(images_ds.take(3))"
   ]
  },
  {
   "cell_type": "code",
   "execution_count": 19,
   "id": "f75c8b0d",
   "metadata": {},
   "outputs": [],
   "source": [
    "class_names = ['cat', 'dog']"
   ]
  },
  {
   "cell_type": "code",
   "execution_count": 20,
   "id": "9e507c6c",
   "metadata": {},
   "outputs": [
    {
     "data": {
      "text/plain": [
       "186"
      ]
     },
     "execution_count": 20,
     "metadata": {},
     "output_type": "execute_result"
    }
   ],
   "source": [
    "image_count = len(images_ds)\n",
    "image_count"
   ]
  },
  {
   "cell_type": "code",
   "execution_count": 21,
   "id": "628df159",
   "metadata": {},
   "outputs": [],
   "source": [
    "train_size = int(image_count*0.8)\n",
    "\n",
    "train_ds = images_ds.take(train_size)\n",
    "\n",
    "test_ds = images_ds.skip(train_size)"
   ]
  },
  {
   "cell_type": "code",
   "execution_count": 22,
   "id": "89c7f73f",
   "metadata": {},
   "outputs": [
    {
     "data": {
      "text/plain": [
       "148"
      ]
     },
     "execution_count": 22,
     "metadata": {},
     "output_type": "execute_result"
    }
   ],
   "source": [
    "len(train_ds)"
   ]
  },
  {
   "cell_type": "code",
   "execution_count": 23,
   "id": "eb3b5001",
   "metadata": {},
   "outputs": [
    {
     "data": {
      "text/plain": [
       "38"
      ]
     },
     "execution_count": 23,
     "metadata": {},
     "output_type": "execute_result"
    }
   ],
   "source": [
    "len(test_ds)"
   ]
  },
  {
   "cell_type": "code",
   "execution_count": 24,
   "id": "acbd43f8",
   "metadata": {},
   "outputs": [],
   "source": [
    "img = 'images\\\\cheetah_images\\\\Welcome Cheetahs to India _ MyGov.in.jpg'"
   ]
  },
  {
   "cell_type": "code",
   "execution_count": 25,
   "id": "95c69439",
   "metadata": {},
   "outputs": [
    {
     "data": {
      "text/plain": [
       "'cheetah_images'"
      ]
     },
     "execution_count": 25,
     "metadata": {},
     "output_type": "execute_result"
    }
   ],
   "source": [
    "img.split('\\\\')[1]"
   ]
  },
  {
   "cell_type": "code",
   "execution_count": 26,
   "id": "f57f08f2",
   "metadata": {},
   "outputs": [
    {
     "data": {
      "text/plain": [
       "'cheetah_images'"
      ]
     },
     "execution_count": 26,
     "metadata": {},
     "output_type": "execute_result"
    }
   ],
   "source": [
    "# Or\n",
    "img.split('\\\\')[-2]"
   ]
  },
  {
   "cell_type": "code",
   "execution_count": 27,
   "id": "45351122",
   "metadata": {},
   "outputs": [],
   "source": [
    "import os\n",
    "def get_label(file_path) : \n",
    "    return tf.strings.split(file_path, os.path.sep)[-2] "
   ]
  },
  {
   "cell_type": "code",
   "execution_count": 28,
   "id": "13eb5bdc",
   "metadata": {},
   "outputs": [],
   "source": [
    "# for t in train_ds.take(4) :\n",
    "#     print(t.numpy())"
   ]
  },
  {
   "cell_type": "code",
   "execution_count": 29,
   "id": "faa3a44b",
   "metadata": {},
   "outputs": [],
   "source": [
    "# for label in train_ds.map(get_label) : \n",
    "#     print(label)"
   ]
  },
  {
   "cell_type": "code",
   "execution_count": 30,
   "id": "0acc3160",
   "metadata": {},
   "outputs": [],
   "source": [
    "def process_image(file_path) :\n",
    "    label = get_label(file_path)\n",
    "    img = tf.io.read_file(file_path)\n",
    "    img = tf.image.decode_jpeg(img)\n",
    "    img = tf.image.resize(img, [128, 128])\n",
    "    \n",
    "    return img, label"
   ]
  },
  {
   "cell_type": "code",
   "execution_count": 31,
   "id": "125ec1a5",
   "metadata": {},
   "outputs": [
    {
     "name": "stdout",
     "output_type": "stream",
     "text": [
      "Image : tf.Tensor(\n",
      "[[[ 85.17969   127.828125   79.00745  ]\n",
      "  [ 28.889526   49.537964   39.565308 ]\n",
      "  [ 46.407288   63.407288   53.407288 ]\n",
      "  ...\n",
      "  [ 49.759888   60.9953     47.967957 ]\n",
      "  [ 66.26642   113.425476   75.84595  ]\n",
      "  [  5.9804688  61.188538   14.815674 ]]\n",
      "\n",
      " [[ 31.012817  108.         40.00641  ]\n",
      "  [  1.6403198  53.64032     7.6240845]\n",
      "  [ 12.746094   63.691406   30.800781 ]\n",
      "  ...\n",
      "  [ 38.65155    43.65155    36.65155  ]\n",
      "  [ 59.217834  101.530945   60.64032  ]\n",
      "  [ 23.186707   81.324524   30.393433 ]]\n",
      "\n",
      " [[  0.         54.839844    0.       ]\n",
      "  [ 30.733582   83.73358    31.733582 ]\n",
      "  [ 11.520813   72.759094   13.829407 ]\n",
      "  ...\n",
      "  [ 51.7865     73.591125   50.65625  ]\n",
      "  [ 25.539062   70.53906    29.539062 ]\n",
      "  [ 44.338013   60.213013   42.275513 ]]\n",
      "\n",
      " ...\n",
      "\n",
      " [[  1.1151123  90.0672      3.211731 ]\n",
      "  [  5.4000244  92.56641    25.266418 ]\n",
      "  [ 81.39844   105.36456    66.19269  ]\n",
      "  ...\n",
      "  [110.37891   111.37891   106.37891  ]\n",
      "  [126.        127.        122.       ]\n",
      "  [116.81561   122.81561   120.81561  ]]\n",
      "\n",
      " [[ 39.302673  122.0683     51.532043 ]\n",
      "  [ 65.999084  102.49548    45.569397 ]\n",
      "  [ 57.45569   120.53381    70.339294 ]\n",
      "  ...\n",
      "  [123.94531   124.94531   119.94531  ]\n",
      "  [125.        125.        125.       ]\n",
      "  [ 97.19922   103.19922   101.19922  ]]\n",
      "\n",
      " [[ 28.14209    81.7348     37.56256  ]\n",
      "  [ 35.346252   82.381714   26.697815 ]\n",
      "  [ 53.738525  111.71118    58.69165  ]\n",
      "  ...\n",
      "  [126.55182   130.44037   129.44037  ]\n",
      "  [122.37891   126.37891   125.37891  ]\n",
      "  [128.64136   131.42047   129.71735  ]]], shape=(128, 128, 3), dtype=float32)\n",
      "label : tf.Tensor(b'lion_images', shape=(), dtype=string)\n",
      "Image : tf.Tensor(\n",
      "[[[ 78.87109   87.87109   86.87109 ]\n",
      "  [ 77.11328   86.11328   83.11328 ]\n",
      "  [ 79.24219   88.24219   83.5     ]\n",
      "  ...\n",
      "  [138.       139.       144.      ]\n",
      "  [138.       139.       144.      ]\n",
      "  [137.       138.       143.      ]]\n",
      "\n",
      " [[ 82.        91.        90.      ]\n",
      "  [ 80.953125  89.953125  86.953125]\n",
      "  [ 79.83984   88.83984   83.83984 ]\n",
      "  ...\n",
      "  [136.       136.       144.      ]\n",
      "  [136.       136.       144.      ]\n",
      "  [134.88672  134.88672  142.88672 ]]\n",
      "\n",
      " [[ 86.71094   95.71094   92.71094 ]\n",
      "  [ 84.21094   93.21094   88.21094 ]\n",
      "  [ 89.06641   99.06641   91.06641 ]\n",
      "  ...\n",
      "  [132.28906  132.28906  142.28906 ]\n",
      "  [132.28906  132.28906  142.28906 ]\n",
      "  [133.28906  133.28906  143.28906 ]]\n",
      "\n",
      " ...\n",
      "\n",
      " [[227.35547  204.35547  170.35547 ]\n",
      "  [225.71094  203.71094  166.71094 ]\n",
      "  [229.14453  207.14453  168.14453 ]\n",
      "  ...\n",
      "  [227.14453  206.64453  174.64453 ]\n",
      "  [228.35547  204.35547  168.35547 ]\n",
      "  [230.5      202.5      163.5     ]]\n",
      "\n",
      " [[225.       202.       168.      ]\n",
      "  [225.38672  203.38672  166.38672 ]\n",
      "  [226.11328  204.11328  165.11328 ]\n",
      "  ...\n",
      "  [229.       208.5      176.5     ]\n",
      "  [226.61328  204.61328  167.61328 ]\n",
      "  [228.       203.       163.      ]]\n",
      "\n",
      " [[223.       200.       166.      ]\n",
      "  [224.6289   202.6289   165.6289  ]\n",
      "  [228.6289   206.6289   167.6289  ]\n",
      "  ...\n",
      "  [228.       209.       176.5     ]\n",
      "  [227.61328  206.1289   169.1289  ]\n",
      "  [228.74219  204.25781  164.      ]]], shape=(128, 128, 3), dtype=float32)\n",
      "label : tf.Tensor(b'cheetah_images', shape=(), dtype=string)\n",
      "Image : tf.Tensor(\n",
      "[[[108.78076    64.78076     3.7807617]\n",
      "  [107.4375     63.4375      2.4375   ]\n",
      "  [103.99756    64.99756     5.9975586]\n",
      "  ...\n",
      "  [ 61.         37.          3.       ]\n",
      "  [ 61.021973   38.021973    4.0219727]\n",
      "  [ 60.         37.          3.       ]]\n",
      "\n",
      " [[107.282715   63.282715    2.2827148]\n",
      "  [107.4375     63.4375      2.4375   ]\n",
      "  [102.296875   63.296875    4.296875 ]\n",
      "  ...\n",
      "  [ 61.         37.          3.       ]\n",
      "  [ 59.4375     36.4375      2.4375   ]\n",
      "  [ 60.         37.          3.       ]]\n",
      "\n",
      " [[106.96338    60.96338     0.9633789]\n",
      "  [104.4375     64.          2.       ]\n",
      "  [103.86719    64.86719     5.8671875]\n",
      "  ...\n",
      "  [ 59.245605   35.245605    1.2456055]\n",
      "  [ 59.538086   36.538086    2.538086 ]\n",
      "  [ 61.         37.          3.       ]]\n",
      "\n",
      " ...\n",
      "\n",
      " [[ 33.         25.          6.       ]\n",
      "  [ 34.         26.          7.       ]\n",
      "  [ 34.85498    26.85498     7.8549805]\n",
      "  ...\n",
      "  [ 56.987793   35.987793    8.987793 ]\n",
      "  [ 54.875      33.875       6.       ]\n",
      "  [ 63.617188   37.617188    4.6171875]]\n",
      "\n",
      " [[ 32.         24.          5.       ]\n",
      "  [ 34.         26.          7.       ]\n",
      "  [ 33.007324   25.007324    6.007324 ]\n",
      "  ...\n",
      "  [ 55.827637   34.827637    7.8276367]\n",
      "  [ 54.875      33.875       6.       ]\n",
      "  [ 63.86084    37.86084     4.86084  ]]\n",
      "\n",
      " [[ 31.780762   23.968262    4.9682617]\n",
      "  [ 32.         25.          6.       ]\n",
      "  [ 32.90332    25.90332     6.9033203]\n",
      "  ...\n",
      "  [ 50.02588    29.025879    2.025879 ]\n",
      "  [ 56.         32.4375      3.125    ]\n",
      "  [ 62.992676   39.180176    5.180176 ]]], shape=(128, 128, 3), dtype=float32)\n",
      "label : tf.Tensor(b'lion_images', shape=(), dtype=string)\n"
     ]
    }
   ],
   "source": [
    "train_ds = train_ds.map(process_image)\n",
    "for img, label in train_ds.take(3) : \n",
    "    print('Image :', img)\n",
    "    print('label :', label)"
   ]
  },
  {
   "cell_type": "code",
   "execution_count": null,
   "id": "a9ed6646",
   "metadata": {},
   "outputs": [],
   "source": []
  },
  {
   "cell_type": "code",
   "execution_count": 32,
   "id": "0440ce2b",
   "metadata": {},
   "outputs": [],
   "source": [
    "def scale(image, label) : \n",
    "    return image/255, label"
   ]
  },
  {
   "cell_type": "code",
   "execution_count": 33,
   "id": "81dced24",
   "metadata": {},
   "outputs": [
    {
     "name": "stdout",
     "output_type": "stream",
     "text": [
      "Image : [0.26286766 0.25502452 0.17267157]\n",
      "label : b'cheetah_images'\n",
      "Image : [0.         0.01471366 0.02647837]\n",
      "label : b'cheetah_images'\n",
      "Image : [0.02074274 0.01682117 0.00113489]\n",
      "label : b'lion_images'\n"
     ]
    }
   ],
   "source": [
    "train_ds = train_ds.map(scale)\n",
    "for img, label in train_ds.take(3) : \n",
    "    print('Image :', img.numpy()[0][0])\n",
    "    print('label :', label.numpy())"
   ]
  },
  {
   "cell_type": "code",
   "execution_count": null,
   "id": "d8790a80",
   "metadata": {},
   "outputs": [],
   "source": []
  },
  {
   "cell_type": "code",
   "execution_count": null,
   "id": "1bc6c079",
   "metadata": {},
   "outputs": [],
   "source": []
  },
  {
   "cell_type": "code",
   "execution_count": null,
   "id": "7f8b5721",
   "metadata": {},
   "outputs": [],
   "source": []
  },
  {
   "cell_type": "code",
   "execution_count": null,
   "id": "f8c32968",
   "metadata": {},
   "outputs": [],
   "source": []
  },
  {
   "cell_type": "code",
   "execution_count": null,
   "id": "70fa9887",
   "metadata": {},
   "outputs": [],
   "source": []
  },
  {
   "cell_type": "code",
   "execution_count": null,
   "id": "77037e80",
   "metadata": {},
   "outputs": [],
   "source": []
  },
  {
   "cell_type": "code",
   "execution_count": null,
   "id": "c02da7cb",
   "metadata": {},
   "outputs": [],
   "source": []
  },
  {
   "cell_type": "code",
   "execution_count": null,
   "id": "14c28b0c",
   "metadata": {},
   "outputs": [],
   "source": []
  },
  {
   "cell_type": "code",
   "execution_count": null,
   "id": "d916fd33",
   "metadata": {},
   "outputs": [],
   "source": []
  }
 ],
 "metadata": {
  "kernelspec": {
   "display_name": "Python 3 (ipykernel)",
   "language": "python",
   "name": "python3"
  },
  "language_info": {
   "codemirror_mode": {
    "name": "ipython",
    "version": 3
   },
   "file_extension": ".py",
   "mimetype": "text/x-python",
   "name": "python",
   "nbconvert_exporter": "python",
   "pygments_lexer": "ipython3",
   "version": "3.11.5"
  }
 },
 "nbformat": 4,
 "nbformat_minor": 5
}
