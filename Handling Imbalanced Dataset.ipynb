{
 "cells": [
  {
   "cell_type": "code",
   "execution_count": 1,
   "id": "40e380c8",
   "metadata": {},
   "outputs": [],
   "source": [
    "import tensorflow as tf\n",
    "from tensorflow import keras\n",
    "import matplotlib.pyplot as plt\n",
    "import numpy as np\n",
    "import pandas as pd\n",
    "from sklearn.metrics import confusion_matrix, classification_report\n",
    "from sklearn.preprocessing import MinMaxScaler\n",
    "from sklearn.model_selection import train_test_split"
   ]
  },
  {
   "cell_type": "code",
   "execution_count": 2,
   "id": "0122ffd1",
   "metadata": {},
   "outputs": [],
   "source": [
    "df = pd.read_csv(\"customer_churn.csv\")"
   ]
  },
  {
   "cell_type": "code",
   "execution_count": 3,
   "id": "cec5f997",
   "metadata": {},
   "outputs": [],
   "source": [
    "df = df.drop('customerID',axis='columns')"
   ]
  },
  {
   "cell_type": "code",
   "execution_count": 4,
   "id": "4b5cfbcf",
   "metadata": {},
   "outputs": [],
   "source": [
    "df = df[df.TotalCharges!=' ']\n",
    "df.TotalCharges = pd.to_numeric(df.TotalCharges)"
   ]
  },
  {
   "cell_type": "code",
   "execution_count": 5,
   "id": "46841683",
   "metadata": {},
   "outputs": [],
   "source": [
    "df.replace('No phone service', 'No', inplace = True)\n",
    "df.replace('No internet service', 'No', inplace = True)"
   ]
  },
  {
   "cell_type": "code",
   "execution_count": 6,
   "id": "a473b04e",
   "metadata": {},
   "outputs": [],
   "source": [
    "df.replace('Yes', 1, inplace=True)\n",
    "df.replace('No', 0, inplace=True)"
   ]
  },
  {
   "cell_type": "code",
   "execution_count": 7,
   "id": "f4cc00eb",
   "metadata": {},
   "outputs": [],
   "source": [
    "df['gender'].replace({'Female':1,'Male':0}, inplace=True)"
   ]
  },
  {
   "cell_type": "code",
   "execution_count": 8,
   "id": "fe449dca",
   "metadata": {},
   "outputs": [],
   "source": [
    "df_with_dummies=pd.get_dummies(data=df, columns=['InternetService', 'Contract','PaymentMethod'])"
   ]
  },
  {
   "cell_type": "code",
   "execution_count": 9,
   "id": "b6e82b08",
   "metadata": {},
   "outputs": [],
   "source": [
    "cols_to_scale = ['tenure','MonthlyCharges','TotalCharges']\n",
    "scaler = MinMaxScaler()\n",
    "\n",
    "df_with_dummies[cols_to_scale]=scaler.fit_transform(df_with_dummies[cols_to_scale])"
   ]
  },
  {
   "cell_type": "code",
   "execution_count": 10,
   "id": "a8edbf73",
   "metadata": {},
   "outputs": [],
   "source": [
    "df_X=df_with_dummies.drop('Churn', axis=1)\n",
    "df_Y=df_with_dummies['Churn']"
   ]
  },
  {
   "cell_type": "code",
   "execution_count": 11,
   "id": "52fb4b05",
   "metadata": {},
   "outputs": [
    {
     "data": {
      "text/plain": [
       "(7032, 27)"
      ]
     },
     "execution_count": 11,
     "metadata": {},
     "output_type": "execute_result"
    }
   ],
   "source": [
    "df_with_dummies.shape"
   ]
  },
  {
   "cell_type": "code",
   "execution_count": 12,
   "id": "2d042c92",
   "metadata": {},
   "outputs": [],
   "source": [
    "X_train, X_test, y_train, y_test = train_test_split(df_X, df_Y, test_size=0.25, random_state=5)"
   ]
  },
  {
   "cell_type": "code",
   "execution_count": 13,
   "id": "dcb99def",
   "metadata": {},
   "outputs": [],
   "source": [
    "def ANN(X_train, y_train, X_test, y_test, loss, weights) : \n",
    "    model=keras.Sequential([\n",
    "        keras.layers.Dense(26, input_shape=(26,), activation='relu'),\n",
    "        keras.layers.Dense(15, activation='relu'),\n",
    "        \n",
    "        keras.layers.Dense(1, activation='sigmoid'),\n",
    "    ])\n",
    "    model.compile(optimizer='adam', loss=loss, metrics=['accuracy']) \n",
    "    \n",
    "    if weights == -1 :\n",
    "        model.fit(X_train, y_train, epochs = 10)\n",
    "    else : \n",
    "        model.fit(X_train, y_train, epochs = 10, class_weight=weights)\n",
    "        \n",
    "    print(model.evaluate(X_test, y_test))\n",
    "    \n",
    "    y_pred = model.predict(X_test)\n",
    "    y_pred = np.round(y_pred)\n",
    "    \n",
    "    print(\"Classification Report : \")\n",
    "    print(classification_report(y_test, y_pred))\n",
    "    \n",
    "    return y_pred"
   ]
  },
  {
   "cell_type": "code",
   "execution_count": 14,
   "id": "72cc5720",
   "metadata": {},
   "outputs": [
    {
     "name": "stdout",
     "output_type": "stream",
     "text": [
      "Epoch 1/10\n",
      "165/165 [==============================] - 2s 3ms/step - loss: 0.5424 - accuracy: 0.6964\n",
      "Epoch 2/10\n",
      "165/165 [==============================] - 1s 3ms/step - loss: 0.4261 - accuracy: 0.7969\n",
      "Epoch 3/10\n",
      "165/165 [==============================] - 1s 3ms/step - loss: 0.4168 - accuracy: 0.8036\n",
      "Epoch 4/10\n",
      "165/165 [==============================] - 1s 3ms/step - loss: 0.4135 - accuracy: 0.8060\n",
      "Epoch 5/10\n",
      "165/165 [==============================] - 1s 3ms/step - loss: 0.4094 - accuracy: 0.8091\n",
      "Epoch 6/10\n",
      "165/165 [==============================] - 1s 4ms/step - loss: 0.4085 - accuracy: 0.8091\n",
      "Epoch 7/10\n",
      "165/165 [==============================] - 1s 4ms/step - loss: 0.4063 - accuracy: 0.8113\n",
      "Epoch 8/10\n",
      "165/165 [==============================] - 1s 3ms/step - loss: 0.4045 - accuracy: 0.8119\n",
      "Epoch 9/10\n",
      "165/165 [==============================] - 1s 3ms/step - loss: 0.4024 - accuracy: 0.8127\n",
      "Epoch 10/10\n",
      "165/165 [==============================] - 1s 3ms/step - loss: 0.4005 - accuracy: 0.8142\n",
      "55/55 [==============================] - 0s 2ms/step - loss: 0.4400 - accuracy: 0.7833\n",
      "[0.4400455057621002, 0.7832764387130737]\n",
      "55/55 [==============================] - 0s 2ms/step\n",
      "Classification Report : \n",
      "              precision    recall  f1-score   support\n",
      "\n",
      "           0       0.83      0.89      0.86      1267\n",
      "           1       0.64      0.52      0.57       491\n",
      "\n",
      "    accuracy                           0.78      1758\n",
      "   macro avg       0.73      0.70      0.71      1758\n",
      "weighted avg       0.77      0.78      0.78      1758\n",
      "\n"
     ]
    }
   ],
   "source": [
    "y_pred = ANN(X_train, y_train, X_test, y_test, 'binary_crossentropy', -1)"
   ]
  },
  {
   "cell_type": "code",
   "execution_count": 15,
   "id": "9762f05f",
   "metadata": {},
   "outputs": [],
   "source": [
    "# Method 1 : Under Sampling "
   ]
  },
  {
   "cell_type": "code",
   "execution_count": 16,
   "id": "98291be3",
   "metadata": {},
   "outputs": [],
   "source": [
    "# Class count \n",
    "count_class_0, count_class_1 = df_with_dummies.Churn.value_counts()"
   ]
  },
  {
   "cell_type": "code",
   "execution_count": 17,
   "id": "a707d3fa",
   "metadata": {},
   "outputs": [],
   "source": [
    "# Divide by Class\n",
    "df_class_0 = df_with_dummies[df_with_dummies['Churn']==0]\n",
    "df_class_1 = df_with_dummies[df_with_dummies['Churn']==1]"
   ]
  },
  {
   "cell_type": "code",
   "execution_count": 18,
   "id": "e3591d05",
   "metadata": {
    "scrolled": true
   },
   "outputs": [
    {
     "data": {
      "text/plain": [
       "(5163, 27)"
      ]
     },
     "execution_count": 18,
     "metadata": {},
     "output_type": "execute_result"
    }
   ],
   "source": [
    "df_class_0.shape"
   ]
  },
  {
   "cell_type": "code",
   "execution_count": 19,
   "id": "ee77d8d7",
   "metadata": {},
   "outputs": [
    {
     "data": {
      "text/plain": [
       "(1869, 27)"
      ]
     },
     "execution_count": 19,
     "metadata": {},
     "output_type": "execute_result"
    }
   ],
   "source": [
    "df_class_1.shape"
   ]
  },
  {
   "cell_type": "code",
   "execution_count": 20,
   "id": "7766202f",
   "metadata": {},
   "outputs": [
    {
     "data": {
      "text/plain": [
       "(5163, 1869)"
      ]
     },
     "execution_count": 20,
     "metadata": {},
     "output_type": "execute_result"
    }
   ],
   "source": [
    "count_class_0, count_class_1"
   ]
  },
  {
   "cell_type": "code",
   "execution_count": 21,
   "id": "00e36b37",
   "metadata": {},
   "outputs": [
    {
     "data": {
      "text/plain": [
       "(1869, 27)"
      ]
     },
     "execution_count": 21,
     "metadata": {},
     "output_type": "execute_result"
    }
   ],
   "source": [
    "df_class_0.sample(count_class_1).shape"
   ]
  },
  {
   "cell_type": "code",
   "execution_count": 22,
   "id": "052fef8f",
   "metadata": {},
   "outputs": [],
   "source": [
    "df_class_0_underSampled = df_class_0.sample(count_class_1)"
   ]
  },
  {
   "cell_type": "code",
   "execution_count": 23,
   "id": "54cbbc82",
   "metadata": {},
   "outputs": [
    {
     "data": {
      "text/plain": [
       "(3738, 27)"
      ]
     },
     "execution_count": 23,
     "metadata": {},
     "output_type": "execute_result"
    }
   ],
   "source": [
    "df_underSampled = pd.concat([df_class_0_underSampled, df_class_1], axis=0)\n",
    "df_underSampled.shape"
   ]
  },
  {
   "cell_type": "code",
   "execution_count": 24,
   "id": "54cb3ea9",
   "metadata": {},
   "outputs": [
    {
     "name": "stdout",
     "output_type": "stream",
     "text": [
      "Random Under Sampling : \n",
      "0    1869\n",
      "1    1869\n",
      "Name: Churn, dtype: int64\n"
     ]
    }
   ],
   "source": [
    "print(\"Random Under Sampling : \")\n",
    "print(df_underSampled.Churn.value_counts())"
   ]
  },
  {
   "cell_type": "code",
   "execution_count": 25,
   "id": "7d8c1687",
   "metadata": {},
   "outputs": [],
   "source": [
    "x = df_underSampled.drop('Churn', axis=1)\n",
    "y = df_underSampled['Churn']"
   ]
  },
  {
   "cell_type": "code",
   "execution_count": 26,
   "id": "179562d8",
   "metadata": {},
   "outputs": [],
   "source": [
    "x_train, x_test, y_train, y_test = train_test_split(x, y, test_size=0.2, random_state=13, stratify=y)"
   ]
  },
  {
   "cell_type": "code",
   "execution_count": 27,
   "id": "667e2b4b",
   "metadata": {},
   "outputs": [
    {
     "data": {
      "text/plain": [
       "0    1495\n",
       "1    1495\n",
       "Name: Churn, dtype: int64"
      ]
     },
     "execution_count": 27,
     "metadata": {},
     "output_type": "execute_result"
    }
   ],
   "source": [
    "y_train.value_counts()"
   ]
  },
  {
   "cell_type": "code",
   "execution_count": 28,
   "id": "b0e1e0f7",
   "metadata": {},
   "outputs": [
    {
     "name": "stdout",
     "output_type": "stream",
     "text": [
      "Epoch 1/10\n",
      "94/94 [==============================] - 1s 3ms/step - loss: 0.6166 - accuracy: 0.6819\n",
      "Epoch 2/10\n",
      "94/94 [==============================] - 0s 3ms/step - loss: 0.5134 - accuracy: 0.7512\n",
      "Epoch 3/10\n",
      "94/94 [==============================] - 0s 3ms/step - loss: 0.4988 - accuracy: 0.7615\n",
      "Epoch 4/10\n",
      "94/94 [==============================] - 0s 3ms/step - loss: 0.4923 - accuracy: 0.7659\n",
      "Epoch 5/10\n",
      "94/94 [==============================] - 0s 3ms/step - loss: 0.4911 - accuracy: 0.7632\n",
      "Epoch 6/10\n",
      "94/94 [==============================] - 0s 3ms/step - loss: 0.4854 - accuracy: 0.7669\n",
      "Epoch 7/10\n",
      "94/94 [==============================] - 0s 3ms/step - loss: 0.4846 - accuracy: 0.7689\n",
      "Epoch 8/10\n",
      "94/94 [==============================] - 0s 3ms/step - loss: 0.4829 - accuracy: 0.7753\n",
      "Epoch 9/10\n",
      "94/94 [==============================] - 0s 3ms/step - loss: 0.4802 - accuracy: 0.7679\n",
      "Epoch 10/10\n",
      "94/94 [==============================] - 0s 3ms/step - loss: 0.4781 - accuracy: 0.7766\n",
      "24/24 [==============================] - 0s 3ms/step - loss: 0.4968 - accuracy: 0.7487\n",
      "[0.49677374958992004, 0.7486631274223328]\n",
      "24/24 [==============================] - 0s 2ms/step\n",
      "Classification Report : \n",
      "              precision    recall  f1-score   support\n",
      "\n",
      "           0       0.78      0.70      0.73       374\n",
      "           1       0.72      0.80      0.76       374\n",
      "\n",
      "    accuracy                           0.75       748\n",
      "   macro avg       0.75      0.75      0.75       748\n",
      "weighted avg       0.75      0.75      0.75       748\n",
      "\n"
     ]
    }
   ],
   "source": [
    "y_pred = ANN(x_train, y_train, x_test, y_test,'binary_crossentropy',-1)"
   ]
  },
  {
   "cell_type": "code",
   "execution_count": 29,
   "id": "a5eca1f6",
   "metadata": {},
   "outputs": [],
   "source": [
    "# Method 2 : Over Sampling"
   ]
  },
  {
   "cell_type": "code",
   "execution_count": 30,
   "id": "6a13b2a9",
   "metadata": {},
   "outputs": [
    {
     "data": {
      "text/plain": [
       "(5163, 1869)"
      ]
     },
     "execution_count": 30,
     "metadata": {},
     "output_type": "execute_result"
    }
   ],
   "source": [
    "count_class_0, count_class_1"
   ]
  },
  {
   "cell_type": "code",
   "execution_count": 31,
   "id": "b563fc74",
   "metadata": {},
   "outputs": [],
   "source": [
    "df_class_1_overSampled = df_class_1.sample(count_class_0, replace = True)"
   ]
  },
  {
   "cell_type": "code",
   "execution_count": 32,
   "id": "76a5e65d",
   "metadata": {},
   "outputs": [],
   "source": [
    "df_overSampled = pd.concat([df_class_0, df_class_1_overSampled], axis=0)"
   ]
  },
  {
   "cell_type": "code",
   "execution_count": 33,
   "id": "eefd4a3f",
   "metadata": {},
   "outputs": [
    {
     "name": "stdout",
     "output_type": "stream",
     "text": [
      "OverSampling : \n",
      "0    5163\n",
      "1    5163\n",
      "Name: Churn, dtype: int64\n"
     ]
    }
   ],
   "source": [
    "print(\"OverSampling : \")\n",
    "print(df_overSampled.Churn.value_counts())"
   ]
  },
  {
   "cell_type": "code",
   "execution_count": 34,
   "id": "fb1a7182",
   "metadata": {},
   "outputs": [],
   "source": [
    "x2 = df_overSampled.drop('Churn', axis=1)\n",
    "y2 = df_overSampled['Churn']"
   ]
  },
  {
   "cell_type": "code",
   "execution_count": 35,
   "id": "dfd858cb",
   "metadata": {},
   "outputs": [],
   "source": [
    "x_train, x_test, y_train, y_test = train_test_split(x2, y2, test_size=0.2, random_state=13, stratify=y2)"
   ]
  },
  {
   "cell_type": "code",
   "execution_count": 36,
   "id": "1cc7b975",
   "metadata": {},
   "outputs": [
    {
     "data": {
      "text/plain": [
       "1    4130\n",
       "0    4130\n",
       "Name: Churn, dtype: int64"
      ]
     },
     "execution_count": 36,
     "metadata": {},
     "output_type": "execute_result"
    }
   ],
   "source": [
    "y_train.value_counts()"
   ]
  },
  {
   "cell_type": "code",
   "execution_count": 37,
   "id": "7798d837",
   "metadata": {},
   "outputs": [
    {
     "name": "stdout",
     "output_type": "stream",
     "text": [
      "Epoch 1/10\n",
      "259/259 [==============================] - 2s 3ms/step - loss: 0.5273 - accuracy: 0.7466\n",
      "Epoch 2/10\n",
      "259/259 [==============================] - 1s 3ms/step - loss: 0.4940 - accuracy: 0.7608\n",
      "Epoch 3/10\n",
      "259/259 [==============================] - 1s 3ms/step - loss: 0.4878 - accuracy: 0.7616\n",
      "Epoch 4/10\n",
      "259/259 [==============================] - 1s 3ms/step - loss: 0.4830 - accuracy: 0.7648\n",
      "Epoch 5/10\n",
      "259/259 [==============================] - 1s 3ms/step - loss: 0.4794 - accuracy: 0.7672\n",
      "Epoch 6/10\n",
      "259/259 [==============================] - 1s 3ms/step - loss: 0.4758 - accuracy: 0.7685\n",
      "Epoch 7/10\n",
      "259/259 [==============================] - 1s 3ms/step - loss: 0.4725 - accuracy: 0.7719\n",
      "Epoch 8/10\n",
      "259/259 [==============================] - 1s 3ms/step - loss: 0.4706 - accuracy: 0.7757\n",
      "Epoch 9/10\n",
      "259/259 [==============================] - 1s 4ms/step - loss: 0.4657 - accuracy: 0.7776\n",
      "Epoch 10/10\n",
      "259/259 [==============================] - 1s 3ms/step - loss: 0.4637 - accuracy: 0.7793\n",
      "65/65 [==============================] - 0s 3ms/step - loss: 0.4620 - accuracy: 0.7759\n",
      "[0.46195438504219055, 0.7758954763412476]\n",
      "65/65 [==============================] - 0s 2ms/step\n",
      "Classification Report : \n",
      "              precision    recall  f1-score   support\n",
      "\n",
      "           0       0.81      0.72      0.76      1033\n",
      "           1       0.75      0.83      0.79      1033\n",
      "\n",
      "    accuracy                           0.78      2066\n",
      "   macro avg       0.78      0.78      0.78      2066\n",
      "weighted avg       0.78      0.78      0.78      2066\n",
      "\n"
     ]
    }
   ],
   "source": [
    "y_pred = ANN(x_train, y_train, x_test, y_test,'binary_crossentropy',-1)"
   ]
  },
  {
   "cell_type": "code",
   "execution_count": 38,
   "id": "34f4f98c",
   "metadata": {},
   "outputs": [],
   "source": [
    "#  SMOTE"
   ]
  },
  {
   "cell_type": "code",
   "execution_count": 39,
   "id": "fe40496a",
   "metadata": {},
   "outputs": [
    {
     "data": {
      "text/plain": [
       "0    5163\n",
       "1    1869\n",
       "Name: Churn, dtype: int64"
      ]
     },
     "execution_count": 39,
     "metadata": {},
     "output_type": "execute_result"
    }
   ],
   "source": [
    "x = df_with_dummies.drop('Churn', axis = 1)\n",
    "y = df_with_dummies['Churn']\n",
    "y.value_counts()"
   ]
  },
  {
   "cell_type": "code",
   "execution_count": 40,
   "id": "fc93817c",
   "metadata": {},
   "outputs": [],
   "source": [
    "from imblearn.over_sampling import SMOTE"
   ]
  },
  {
   "cell_type": "code",
   "execution_count": 41,
   "id": "4c9aa5e9",
   "metadata": {},
   "outputs": [
    {
     "data": {
      "text/plain": [
       "0    5163\n",
       "1    5163\n",
       "Name: Churn, dtype: int64"
      ]
     },
     "execution_count": 41,
     "metadata": {},
     "output_type": "execute_result"
    }
   ],
   "source": [
    "smote = SMOTE(sampling_strategy='minority')\n",
    "x_sm, y_sm = smote.fit_resample(x,y)\n",
    "y_sm.value_counts()"
   ]
  },
  {
   "cell_type": "code",
   "execution_count": 42,
   "id": "e333f1c3",
   "metadata": {},
   "outputs": [],
   "source": [
    "x_train, x_test, y_train, y_test = train_test_split(x_sm, y_sm, test_size=0.2, random_state=13, stratify=y_sm)"
   ]
  },
  {
   "cell_type": "code",
   "execution_count": 43,
   "id": "af66ef5a",
   "metadata": {},
   "outputs": [
    {
     "data": {
      "text/plain": [
       "1    4130\n",
       "0    4130\n",
       "Name: Churn, dtype: int64"
      ]
     },
     "execution_count": 43,
     "metadata": {},
     "output_type": "execute_result"
    }
   ],
   "source": [
    "y_train.value_counts()"
   ]
  },
  {
   "cell_type": "code",
   "execution_count": 44,
   "id": "2380c59f",
   "metadata": {},
   "outputs": [
    {
     "name": "stdout",
     "output_type": "stream",
     "text": [
      "Epoch 1/10\n",
      "259/259 [==============================] - 2s 3ms/step - loss: 0.5368 - accuracy: 0.7473\n",
      "Epoch 2/10\n",
      "259/259 [==============================] - 1s 3ms/step - loss: 0.4793 - accuracy: 0.7705\n",
      "Epoch 3/10\n",
      "259/259 [==============================] - 1s 2ms/step - loss: 0.4722 - accuracy: 0.7736\n",
      "Epoch 4/10\n",
      "259/259 [==============================] - 1s 4ms/step - loss: 0.4659 - accuracy: 0.7762\n",
      "Epoch 5/10\n",
      "259/259 [==============================] - 1s 4ms/step - loss: 0.4609 - accuracy: 0.7794\n",
      "Epoch 6/10\n",
      "259/259 [==============================] - 1s 3ms/step - loss: 0.4551 - accuracy: 0.7800\n",
      "Epoch 7/10\n",
      "259/259 [==============================] - 1s 3ms/step - loss: 0.4503 - accuracy: 0.7841\n",
      "Epoch 8/10\n",
      "259/259 [==============================] - 1s 3ms/step - loss: 0.4460 - accuracy: 0.7862\n",
      "Epoch 9/10\n",
      "259/259 [==============================] - 1s 3ms/step - loss: 0.4419 - accuracy: 0.7925\n",
      "Epoch 10/10\n",
      "259/259 [==============================] - 1s 3ms/step - loss: 0.4378 - accuracy: 0.7931\n",
      "65/65 [==============================] - 0s 3ms/step - loss: 0.4226 - accuracy: 0.8049\n",
      "[0.4226451516151428, 0.8049370646476746]\n",
      "65/65 [==============================] - 0s 2ms/step\n",
      "Classification Report : \n",
      "              precision    recall  f1-score   support\n",
      "\n",
      "           0       0.81      0.80      0.80      1033\n",
      "           1       0.80      0.81      0.81      1033\n",
      "\n",
      "    accuracy                           0.80      2066\n",
      "   macro avg       0.81      0.80      0.80      2066\n",
      "weighted avg       0.81      0.80      0.80      2066\n",
      "\n"
     ]
    }
   ],
   "source": [
    "y_pred = ANN(x_train, y_train, x_test, y_test,'binary_crossentropy',-1)"
   ]
  },
  {
   "cell_type": "code",
   "execution_count": 45,
   "id": "ed001ac5",
   "metadata": {},
   "outputs": [],
   "source": [
    "# Method 4 : Use of Ensemble with undersampling"
   ]
  },
  {
   "cell_type": "code",
   "execution_count": 46,
   "id": "9a750327",
   "metadata": {},
   "outputs": [
    {
     "data": {
      "text/plain": [
       "0    5163\n",
       "1    1869\n",
       "Name: Churn, dtype: int64"
      ]
     },
     "execution_count": 46,
     "metadata": {},
     "output_type": "execute_result"
    }
   ],
   "source": [
    "df_with_dummies.Churn.value_counts()"
   ]
  },
  {
   "cell_type": "code",
   "execution_count": 47,
   "id": "72c34ba8",
   "metadata": {},
   "outputs": [],
   "source": [
    "x_ens = df_with_dummies.drop('Churn', axis = 1)\n",
    "y_ens = df_with_dummies['Churn']"
   ]
  },
  {
   "cell_type": "code",
   "execution_count": 48,
   "id": "b6751879",
   "metadata": {},
   "outputs": [],
   "source": [
    "x_train, x_test, y_train, y_test = train_test_split(x_ens, y_ens, test_size=0.2, random_state=13, stratify=y_ens)"
   ]
  },
  {
   "cell_type": "code",
   "execution_count": 49,
   "id": "9e2696a4",
   "metadata": {},
   "outputs": [
    {
     "data": {
      "text/plain": [
       "0    4130\n",
       "1    1495\n",
       "Name: Churn, dtype: int64"
      ]
     },
     "execution_count": 49,
     "metadata": {},
     "output_type": "execute_result"
    }
   ],
   "source": [
    "y_train.value_counts()"
   ]
  },
  {
   "cell_type": "code",
   "execution_count": 50,
   "id": "68ec18fd",
   "metadata": {},
   "outputs": [
    {
     "data": {
      "text/plain": [
       "0    1033\n",
       "1     374\n",
       "Name: Churn, dtype: int64"
      ]
     },
     "execution_count": 50,
     "metadata": {},
     "output_type": "execute_result"
    }
   ],
   "source": [
    "y_test.value_counts()"
   ]
  },
  {
   "cell_type": "code",
   "execution_count": 51,
   "id": "b4d52a27",
   "metadata": {},
   "outputs": [
    {
     "data": {
      "text/plain": [
       "2.762541806020067"
      ]
     },
     "execution_count": 51,
     "metadata": {},
     "output_type": "execute_result"
    }
   ],
   "source": [
    "4130/1495"
   ]
  },
  {
   "cell_type": "code",
   "execution_count": 52,
   "id": "5ba01a3a",
   "metadata": {},
   "outputs": [
    {
     "data": {
      "text/plain": [
       "2.7620320855614975"
      ]
     },
     "execution_count": 52,
     "metadata": {},
     "output_type": "execute_result"
    }
   ],
   "source": [
    "1033/374"
   ]
  },
  {
   "cell_type": "code",
   "execution_count": 53,
   "id": "a6650fe6",
   "metadata": {},
   "outputs": [],
   "source": [
    "df_train = x_train.copy()\n",
    "df_train['Churn'] = y_train"
   ]
  },
  {
   "cell_type": "code",
   "execution_count": 54,
   "id": "2dcff6c9",
   "metadata": {},
   "outputs": [],
   "source": [
    "df_train_class_0 = df_train[df_train.Churn == 0]\n",
    "df_train_class_1 = df_train[df_train.Churn == 1]"
   ]
  },
  {
   "cell_type": "code",
   "execution_count": 55,
   "id": "ff2a757b",
   "metadata": {},
   "outputs": [
    {
     "data": {
      "text/plain": [
       "((4130, 27), (1495, 27))"
      ]
     },
     "execution_count": 55,
     "metadata": {},
     "output_type": "execute_result"
    }
   ],
   "source": [
    "df_train_class_0.shape, df_train_class_1.shape"
   ]
  },
  {
   "cell_type": "code",
   "execution_count": 56,
   "id": "12034d09",
   "metadata": {},
   "outputs": [],
   "source": [
    "# df_train_underSampleForEnsebling_batch1 = df_train_class_0[:1109]"
   ]
  },
  {
   "cell_type": "code",
   "execution_count": 57,
   "id": "1e15d29c",
   "metadata": {},
   "outputs": [],
   "source": [
    "# df_train_batch1 = pd.concat([df_train_underSampleForEnsebling_batch1, df_train_class_1], axis = 0)"
   ]
  },
  {
   "cell_type": "code",
   "execution_count": 58,
   "id": "f6a8c57c",
   "metadata": {},
   "outputs": [],
   "source": [
    "# df_train_underSampleForEnsebling_batch2 = df_train_class_0[1109: 2218]\n",
    "# df_train_batch1 = pd.concat([df_train_underSampleForEnsebling_batch2, df_train_class_1], axis = 0)"
   ]
  },
  {
   "cell_type": "code",
   "execution_count": 59,
   "id": "31114ac5",
   "metadata": {},
   "outputs": [],
   "source": [
    "def get_train_batch(df_majority, df_minority, start, end):\n",
    "    df_train = pd.concat([df_majority[start:end], df_minority], axis = 0)\n",
    "    \n",
    "    x_train = df_train.drop('Churn', axis = 1)\n",
    "    y_train = df_train.Churn\n",
    "    \n",
    "    return x_train, y_train"
   ]
  },
  {
   "cell_type": "code",
   "execution_count": 60,
   "id": "91a4326f",
   "metadata": {},
   "outputs": [],
   "source": [
    "x_train, y_train = get_train_batch(df_train_class_0, df_train_class_1, 0, 1495)"
   ]
  },
  {
   "cell_type": "code",
   "execution_count": 61,
   "id": "37191d2e",
   "metadata": {},
   "outputs": [
    {
     "data": {
      "text/plain": [
       "(2990, 26)"
      ]
     },
     "execution_count": 61,
     "metadata": {},
     "output_type": "execute_result"
    }
   ],
   "source": [
    "x_train.shape"
   ]
  },
  {
   "cell_type": "code",
   "execution_count": 62,
   "id": "0b8619cc",
   "metadata": {},
   "outputs": [
    {
     "name": "stdout",
     "output_type": "stream",
     "text": [
      "Epoch 1/10\n",
      "94/94 [==============================] - 1s 3ms/step - loss: 0.6159 - accuracy: 0.6538\n",
      "Epoch 2/10\n",
      "94/94 [==============================] - 0s 3ms/step - loss: 0.5217 - accuracy: 0.7391\n",
      "Epoch 3/10\n",
      "94/94 [==============================] - 0s 3ms/step - loss: 0.5086 - accuracy: 0.7475\n",
      "Epoch 4/10\n",
      "94/94 [==============================] - 0s 3ms/step - loss: 0.5013 - accuracy: 0.7472\n",
      "Epoch 5/10\n",
      "94/94 [==============================] - 0s 3ms/step - loss: 0.4977 - accuracy: 0.7542\n",
      "Epoch 6/10\n",
      "94/94 [==============================] - 0s 3ms/step - loss: 0.4925 - accuracy: 0.7559\n",
      "Epoch 7/10\n",
      "94/94 [==============================] - 0s 3ms/step - loss: 0.4908 - accuracy: 0.7525\n",
      "Epoch 8/10\n",
      "94/94 [==============================] - 0s 3ms/step - loss: 0.4877 - accuracy: 0.7552\n",
      "Epoch 9/10\n",
      "94/94 [==============================] - 0s 3ms/step - loss: 0.4871 - accuracy: 0.7535\n",
      "Epoch 10/10\n",
      "94/94 [==============================] - 0s 3ms/step - loss: 0.4835 - accuracy: 0.7559\n",
      "44/44 [==============================] - 1s 3ms/step - loss: 0.4642 - accuracy: 0.7690\n",
      "[0.4642467200756073, 0.7690120935440063]\n",
      "44/44 [==============================] - 0s 3ms/step\n",
      "Classification Report : \n",
      "              precision    recall  f1-score   support\n",
      "\n",
      "           0       0.91      0.76      0.83      1033\n",
      "           1       0.54      0.80      0.65       374\n",
      "\n",
      "    accuracy                           0.77      1407\n",
      "   macro avg       0.73      0.78      0.74      1407\n",
      "weighted avg       0.82      0.77      0.78      1407\n",
      "\n"
     ]
    }
   ],
   "source": [
    "y_pred1 = ANN(x_train, y_train, x_test, y_test,'binary_crossentropy',-1)"
   ]
  },
  {
   "cell_type": "code",
   "execution_count": 63,
   "id": "1761d700",
   "metadata": {},
   "outputs": [
    {
     "name": "stdout",
     "output_type": "stream",
     "text": [
      "Epoch 1/10\n",
      "94/94 [==============================] - 1s 3ms/step - loss: 0.6375 - accuracy: 0.6488\n",
      "Epoch 2/10\n",
      "94/94 [==============================] - 0s 3ms/step - loss: 0.5363 - accuracy: 0.7452\n",
      "Epoch 3/10\n",
      "94/94 [==============================] - 0s 3ms/step - loss: 0.5086 - accuracy: 0.7548\n",
      "Epoch 4/10\n",
      "94/94 [==============================] - 0s 3ms/step - loss: 0.4988 - accuracy: 0.7518\n",
      "Epoch 5/10\n",
      "94/94 [==============================] - 0s 3ms/step - loss: 0.4942 - accuracy: 0.7589\n",
      "Epoch 6/10\n",
      "94/94 [==============================] - 0s 3ms/step - loss: 0.4919 - accuracy: 0.7528\n",
      "Epoch 7/10\n",
      "94/94 [==============================] - 0s 3ms/step - loss: 0.4887 - accuracy: 0.7585\n",
      "Epoch 8/10\n",
      "94/94 [==============================] - 0s 3ms/step - loss: 0.4866 - accuracy: 0.7565\n",
      "Epoch 9/10\n",
      "94/94 [==============================] - 0s 3ms/step - loss: 0.4853 - accuracy: 0.7639\n",
      "Epoch 10/10\n",
      "94/94 [==============================] - 0s 3ms/step - loss: 0.4824 - accuracy: 0.7639\n",
      "44/44 [==============================] - 0s 3ms/step - loss: 0.4407 - accuracy: 0.7882\n",
      "[0.4406510591506958, 0.7882018685340881]\n",
      "44/44 [==============================] - 0s 2ms/step\n",
      "Classification Report : \n",
      "              precision    recall  f1-score   support\n",
      "\n",
      "           0       0.90      0.80      0.85      1033\n",
      "           1       0.58      0.76      0.66       374\n",
      "\n",
      "    accuracy                           0.79      1407\n",
      "   macro avg       0.74      0.78      0.75      1407\n",
      "weighted avg       0.82      0.79      0.80      1407\n",
      "\n"
     ]
    }
   ],
   "source": [
    "x_train, y_train = get_train_batch(df_train_class_0, df_train_class_1, 1495, 2990)\n",
    "y_pred2 = ANN(x_train, y_train, x_test, y_test,'binary_crossentropy',-1)"
   ]
  },
  {
   "cell_type": "code",
   "execution_count": 64,
   "id": "fc8f70e1",
   "metadata": {},
   "outputs": [
    {
     "name": "stdout",
     "output_type": "stream",
     "text": [
      "Epoch 1/10\n",
      "83/83 [==============================] - 1s 2ms/step - loss: 0.6465 - accuracy: 0.6167\n",
      "Epoch 2/10\n",
      "83/83 [==============================] - 0s 2ms/step - loss: 0.5369 - accuracy: 0.7507\n",
      "Epoch 3/10\n",
      "83/83 [==============================] - 0s 3ms/step - loss: 0.4938 - accuracy: 0.7617\n",
      "Epoch 4/10\n",
      "83/83 [==============================] - 0s 4ms/step - loss: 0.4821 - accuracy: 0.7639\n",
      "Epoch 5/10\n",
      "83/83 [==============================] - 0s 3ms/step - loss: 0.4755 - accuracy: 0.7677\n",
      "Epoch 6/10\n",
      "83/83 [==============================] - 0s 3ms/step - loss: 0.4708 - accuracy: 0.7738\n",
      "Epoch 7/10\n",
      "83/83 [==============================] - 0s 3ms/step - loss: 0.4675 - accuracy: 0.7700\n",
      "Epoch 8/10\n",
      "83/83 [==============================] - 0s 4ms/step - loss: 0.4645 - accuracy: 0.7738\n",
      "Epoch 9/10\n",
      "83/83 [==============================] - 0s 3ms/step - loss: 0.4611 - accuracy: 0.7799\n",
      "Epoch 10/10\n",
      "83/83 [==============================] - 0s 3ms/step - loss: 0.4593 - accuracy: 0.7799\n",
      "44/44 [==============================] - 0s 3ms/step - loss: 0.5194 - accuracy: 0.7349\n",
      "[0.519393801689148, 0.7348969578742981]\n",
      "44/44 [==============================] - 0s 2ms/step\n",
      "Classification Report : \n",
      "              precision    recall  f1-score   support\n",
      "\n",
      "           0       0.94      0.69      0.79      1033\n",
      "           1       0.50      0.87      0.64       374\n",
      "\n",
      "    accuracy                           0.73      1407\n",
      "   macro avg       0.72      0.78      0.71      1407\n",
      "weighted avg       0.82      0.73      0.75      1407\n",
      "\n"
     ]
    }
   ],
   "source": [
    "x_train, y_train = get_train_batch(df_train_class_0, df_train_class_1, 2990, 4130)\n",
    "y_pred3 = ANN(x_train, y_train, x_test, y_test,'binary_crossentropy',-1)"
   ]
  },
  {
   "cell_type": "code",
   "execution_count": 65,
   "id": "7c8d730b",
   "metadata": {},
   "outputs": [
    {
     "data": {
      "text/plain": [
       "1"
      ]
     },
     "execution_count": 65,
     "metadata": {},
     "output_type": "execute_result"
    }
   ],
   "source": [
    "# Majority Vote\n",
    "vote1 = 0\n",
    "vote2 = 0\n",
    "vote3 = 1\n",
    "\n",
    "vote1+vote2+vote3"
   ]
  },
  {
   "cell_type": "code",
   "execution_count": 66,
   "id": "52da4aa7",
   "metadata": {},
   "outputs": [
    {
     "data": {
      "text/plain": [
       "1407"
      ]
     },
     "execution_count": 66,
     "metadata": {},
     "output_type": "execute_result"
    }
   ],
   "source": [
    "len(y_pred3)"
   ]
  },
  {
   "cell_type": "code",
   "execution_count": 67,
   "id": "4b4c6bc5",
   "metadata": {},
   "outputs": [],
   "source": [
    "y_pred_final = y_pred1.copy()\n",
    "\n",
    "for i in range(len(y_pred1)):\n",
    "    n_ones = y_pred1[i]+y_pred2[i]+y_pred3[i]\n",
    "    \n",
    "    if n_ones>1 :\n",
    "        y_pred_final[i]=1\n",
    "    else :\n",
    "        y_pred_final[i]=0"
   ]
  },
  {
   "cell_type": "code",
   "execution_count": 68,
   "id": "04ce292b",
   "metadata": {},
   "outputs": [
    {
     "name": "stdout",
     "output_type": "stream",
     "text": [
      "              precision    recall  f1-score   support\n",
      "\n",
      "           0       0.91      0.76      0.83      1033\n",
      "           1       0.54      0.80      0.65       374\n",
      "\n",
      "    accuracy                           0.77      1407\n",
      "   macro avg       0.73      0.78      0.74      1407\n",
      "weighted avg       0.82      0.77      0.78      1407\n",
      "\n"
     ]
    }
   ],
   "source": [
    "print(classification_report(y_test, y_pred_final))"
   ]
  },
  {
   "cell_type": "code",
   "execution_count": null,
   "id": "3656bde2",
   "metadata": {},
   "outputs": [],
   "source": []
  },
  {
   "cell_type": "code",
   "execution_count": null,
   "id": "2b69fe8e",
   "metadata": {},
   "outputs": [],
   "source": []
  },
  {
   "cell_type": "code",
   "execution_count": null,
   "id": "3f013f81",
   "metadata": {},
   "outputs": [],
   "source": []
  },
  {
   "cell_type": "code",
   "execution_count": 69,
   "id": "da7c905c",
   "metadata": {},
   "outputs": [],
   "source": [
    "# Plotting Confusion Matrix\n",
    "\n",
    "# import seaborn as sn\n",
    "# cm = tf.math.confusion_matrix(labels=y_test, predictions=y_predicted_final)\n",
    "\n",
    "# plt.figure(figsize=(10,7))\n",
    "# sn.heatmap(cm, annot=True, fmt='d')\n",
    "# plt.xlabel('Predicted')\n",
    "# plt.ylabel('Truth')"
   ]
  }
 ],
 "metadata": {
  "kernelspec": {
   "display_name": "Python 3 (ipykernel)",
   "language": "python",
   "name": "python3"
  },
  "language_info": {
   "codemirror_mode": {
    "name": "ipython",
    "version": 3
   },
   "file_extension": ".py",
   "mimetype": "text/x-python",
   "name": "python",
   "nbconvert_exporter": "python",
   "pygments_lexer": "ipython3",
   "version": "3.10.5"
  }
 },
 "nbformat": 4,
 "nbformat_minor": 5
}
