{
 "cells": [
  {
   "cell_type": "code",
   "execution_count": 1,
   "id": "66a72ba9",
   "metadata": {},
   "outputs": [],
   "source": [
    "import tensorflow as tf\n",
    "from tensorflow import keras\n",
    "import matplotlib.pyplot as plt\n",
    "import numpy as np\n",
    "import pandas as pd"
   ]
  },
  {
   "cell_type": "code",
   "execution_count": 2,
   "id": "2db69b6c",
   "metadata": {},
   "outputs": [],
   "source": [
    "df = pd.read_csv(\"customer_churn.csv\")\n",
    "# df.sample(5)"
   ]
  },
  {
   "cell_type": "code",
   "execution_count": 3,
   "id": "5c1e9acc",
   "metadata": {},
   "outputs": [],
   "source": [
    "df = df.drop('customerID',axis='columns')\n",
    "# df.dtypes"
   ]
  },
  {
   "cell_type": "code",
   "execution_count": 4,
   "id": "7ecb4670",
   "metadata": {},
   "outputs": [],
   "source": [
    "# // We'll have to convert this into a number column\n",
    "# df.TotalCharges.values"
   ]
  },
  {
   "cell_type": "code",
   "execution_count": 5,
   "id": "acdcb997",
   "metadata": {},
   "outputs": [
    {
     "data": {
      "text/plain": [
       "0       False\n",
       "1       False\n",
       "2       False\n",
       "3       False\n",
       "4       False\n",
       "        ...  \n",
       "7038    False\n",
       "7039    False\n",
       "7040    False\n",
       "7041    False\n",
       "7042    False\n",
       "Name: TotalCharges, Length: 7043, dtype: bool"
      ]
     },
     "execution_count": 5,
     "metadata": {},
     "output_type": "execute_result"
    }
   ],
   "source": [
    "# Some values have space as values in TotalCharges, we'll have to \n",
    "# first tackle that\n",
    "\n",
    "pd.to_numeric(df.TotalCharges, errors = 'coerce').isnull()"
   ]
  },
  {
   "cell_type": "code",
   "execution_count": 6,
   "id": "755923cc",
   "metadata": {},
   "outputs": [
    {
     "data": {
      "text/plain": [
       "(11, 20)"
      ]
     },
     "execution_count": 6,
     "metadata": {},
     "output_type": "execute_result"
    }
   ],
   "source": [
    "df[pd.to_numeric(df.TotalCharges, errors = 'coerce').isnull()].shape"
   ]
  },
  {
   "cell_type": "code",
   "execution_count": 7,
   "id": "17a35bb7",
   "metadata": {},
   "outputs": [],
   "source": [
    "# df.shape"
   ]
  },
  {
   "cell_type": "code",
   "execution_count": 7,
   "id": "0a649cc8",
   "metadata": {},
   "outputs": [
    {
     "data": {
      "text/plain": [
       "'4217.8'"
      ]
     },
     "execution_count": 7,
     "metadata": {},
     "output_type": "execute_result"
    }
   ],
   "source": [
    "# Find value same as you would in a 2D array\n",
    "df.iloc[48]['TotalCharges']"
   ]
  },
  {
   "cell_type": "code",
   "execution_count": 8,
   "id": "8b261986",
   "metadata": {},
   "outputs": [],
   "source": [
    "df = df[df.TotalCharges!=' ']"
   ]
  },
  {
   "cell_type": "code",
   "execution_count": 9,
   "id": "74558b8d",
   "metadata": {},
   "outputs": [],
   "source": [
    "# df.shape"
   ]
  },
  {
   "cell_type": "code",
   "execution_count": 16,
   "id": "d2ecbe31",
   "metadata": {},
   "outputs": [
    {
     "data": {
      "text/plain": [
       "gender               object\n",
       "SeniorCitizen         int64\n",
       "Partner              object\n",
       "Dependents           object\n",
       "tenure                int64\n",
       "PhoneService         object\n",
       "MultipleLines        object\n",
       "InternetService      object\n",
       "OnlineSecurity       object\n",
       "OnlineBackup         object\n",
       "DeviceProtection     object\n",
       "TechSupport          object\n",
       "StreamingTV          object\n",
       "StreamingMovies      object\n",
       "Contract             object\n",
       "PaperlessBilling     object\n",
       "PaymentMethod        object\n",
       "MonthlyCharges      float64\n",
       "TotalCharges        float64\n",
       "Churn                object\n",
       "dtype: object"
      ]
     },
     "execution_count": 16,
     "metadata": {},
     "output_type": "execute_result"
    }
   ],
   "source": [
    "df.dtypes"
   ]
  },
  {
   "cell_type": "code",
   "execution_count": 17,
   "id": "38940f05",
   "metadata": {},
   "outputs": [],
   "source": [
    "df.TotalCharges = pd.to_numeric(df.TotalCharges)"
   ]
  },
  {
   "cell_type": "code",
   "execution_count": 26,
   "id": "fc15ac72",
   "metadata": {},
   "outputs": [],
   "source": [
    "# df.TotalCharges.values"
   ]
  },
  {
   "cell_type": "code",
   "execution_count": 19,
   "id": "64bed964",
   "metadata": {},
   "outputs": [
    {
     "data": {
      "text/plain": [
       "dtype('float64')"
      ]
     },
     "execution_count": 19,
     "metadata": {},
     "output_type": "execute_result"
    }
   ],
   "source": [
    "df.TotalCharges.dtypes"
   ]
  },
  {
   "cell_type": "code",
   "execution_count": 20,
   "id": "a32f6296",
   "metadata": {},
   "outputs": [
    {
     "data": {
      "text/plain": [
       "<matplotlib.legend.Legend at 0x24ec53799f0>"
      ]
     },
     "execution_count": 20,
     "metadata": {},
     "output_type": "execute_result"
    },
    {
     "data": {
      "image/png": "[encoded data removed]",
      "text/plain": [
       "<Figure size 432x288 with 1 Axes>"
      ]
     },
     "metadata": {
      "needs_background": "light"
     },
     "output_type": "display_data"
    }
   ],
   "source": [
    "# df[df.Churn=='Yes']\n",
    "tenure_churn_no = df[df.Churn == 'No'].tenure\n",
    "tenure_churn_yes = df[df.Churn == 'Yes'].tenure\n",
    "\n",
    "plt.xlabel('tenure')\n",
    "plt.ylabel('No. of Customers')\n",
    "plt.title('Customer Churn Prediction Visualization based on Tenure')\n",
    "\n",
    "plt.hist([tenure_churn_yes, tenure_churn_no], color = ['red', 'green'], label = ['Churn=Yes', 'Churn=No'])\n",
    "plt.legend()"
   ]
  },
  {
   "cell_type": "code",
   "execution_count": 21,
   "id": "20075eff",
   "metadata": {},
   "outputs": [],
   "source": [
    "# df[df.tenure>40]"
   ]
  },
  {
   "cell_type": "code",
   "execution_count": 22,
   "id": "b1cb4363",
   "metadata": {},
   "outputs": [
    {
     "data": {
      "text/plain": [
       "<matplotlib.legend.Legend at 0x24e9dff2980>"
      ]
     },
     "execution_count": 22,
     "metadata": {},
     "output_type": "execute_result"
    },
    {
     "data": {
      "image/png": "[encoded data removed]",
      "text/plain": [
       "<Figure size 432x288 with 1 Axes>"
      ]
     },
     "metadata": {
      "needs_background": "light"
     },
     "output_type": "display_data"
    }
   ],
   "source": [
    "\n",
    "MonthlyCharges_churn_no = df[df.Churn == 'No'].MonthlyCharges\n",
    "MonthlyCharges_churn_yes = df[df.Churn == 'Yes'].MonthlyCharges\n",
    "\n",
    "plt.xlabel('MonthlyCharges')\n",
    "plt.ylabel('No. of Customers')\n",
    "plt.title('Customer Churn Prediction Visualization based on Monthly Charges')\n",
    "\n",
    "plt.hist([MonthlyCharges_churn_yes, MonthlyCharges_churn_no], color = ['red', 'green'], label = ['Churn=Yes', 'Churn=No'])\n",
    "plt.legend()"
   ]
  },
  {
   "cell_type": "code",
   "execution_count": 23,
   "id": "34e4c24e",
   "metadata": {},
   "outputs": [],
   "source": [
    "# Label Encoding\n",
    "def print_unique_column_values(df) : \n",
    "    for col in df :\n",
    "        if df[col].dtypes=='object':\n",
    "            print(f' {col} : {df[col].unique()}')"
   ]
  },
  {
   "cell_type": "code",
   "execution_count": 24,
   "id": "2bb50fe2",
   "metadata": {},
   "outputs": [
    {
     "name": "stdout",
     "output_type": "stream",
     "text": [
      " gender : ['Female' 'Male']\n",
      " Partner : ['Yes' 'No']\n",
      " Dependents : ['No' 'Yes']\n",
      " PhoneService : ['No' 'Yes']\n",
      " MultipleLines : ['No phone service' 'No' 'Yes']\n",
      " InternetService : ['DSL' 'Fiber optic' 'No']\n",
      " OnlineSecurity : ['No' 'Yes' 'No internet service']\n",
      " OnlineBackup : ['Yes' 'No' 'No internet service']\n",
      " DeviceProtection : ['No' 'Yes' 'No internet service']\n",
      " TechSupport : ['No' 'Yes' 'No internet service']\n",
      " StreamingTV : ['No' 'Yes' 'No internet service']\n",
      " StreamingMovies : ['No' 'Yes' 'No internet service']\n",
      " Contract : ['Month-to-month' 'One year' 'Two year']\n",
      " PaperlessBilling : ['Yes' 'No']\n",
      " PaymentMethod : ['Electronic check' 'Mailed check' 'Bank transfer (automatic)'\n",
      " 'Credit card (automatic)']\n",
      " Churn : ['No' 'Yes']\n"
     ]
    }
   ],
   "source": [
    "print_unique_column_values(df)"
   ]
  },
  {
   "cell_type": "code",
   "execution_count": 20,
   "id": "c863c64a",
   "metadata": {},
   "outputs": [],
   "source": [
    "# df[df.MultipleLines =='No phone service']\n",
    "df.replace('No phone service', 'No', inplace = True)\n",
    "# df[df.MultipleLines =='No phone service']"
   ]
  },
  {
   "cell_type": "code",
   "execution_count": 21,
   "id": "118b50b0",
   "metadata": {},
   "outputs": [],
   "source": [
    "df.replace('No internet service', 'No', inplace = True)\n",
    "# df[df.DeviceProtection == 'No internet service']"
   ]
  },
  {
   "cell_type": "code",
   "execution_count": 22,
   "id": "d3740b7b",
   "metadata": {},
   "outputs": [],
   "source": [
    "# print_unique_column_values(df)"
   ]
  },
  {
   "cell_type": "code",
   "execution_count": 23,
   "id": "8f810267",
   "metadata": {},
   "outputs": [],
   "source": [
    "# Replacing 'Yes' and 'No' with 1 and 0\n"
   ]
  },
  {
   "cell_type": "code",
   "execution_count": 24,
   "id": "335ec002",
   "metadata": {},
   "outputs": [],
   "source": [
    "df.replace('Yes', 1, inplace=True)\n",
    "df.replace('No', 0, inplace=True)"
   ]
  },
  {
   "cell_type": "code",
   "execution_count": 25,
   "id": "6d5ff4d9",
   "metadata": {},
   "outputs": [],
   "source": [
    "# print_unique_column_values(df)"
   ]
  },
  {
   "cell_type": "code",
   "execution_count": 26,
   "id": "02857ddf",
   "metadata": {},
   "outputs": [],
   "source": [
    "# df.dtypes"
   ]
  },
  {
   "cell_type": "code",
   "execution_count": 27,
   "id": "b2429a65",
   "metadata": {},
   "outputs": [],
   "source": [
    "# Alternatively, we can\n",
    "# yes_no_columns = ['Partner','Dependents','PhoneService','MultipleLines','OnlineSecurity','OnlineBackup','DeviceProtection','TechSupport','StreamingTV','StreamingMovies','PaperlessBilling','Churn']     \n",
    "# for col in yes_no_columns :\n",
    "#     df[col].replace({'Yes': 1, 'No':0}, inplace = True)"
   ]
  },
  {
   "cell_type": "code",
   "execution_count": 28,
   "id": "2092cb39",
   "metadata": {},
   "outputs": [],
   "source": [
    "# print_unique_column_values(df)"
   ]
  },
  {
   "cell_type": "code",
   "execution_count": 29,
   "id": "fac549a9",
   "metadata": {},
   "outputs": [],
   "source": [
    "# for col in df :\n",
    "#     print(f'{col}:{df[col].unique()}')"
   ]
  },
  {
   "cell_type": "code",
   "execution_count": 30,
   "id": "eccbc800",
   "metadata": {},
   "outputs": [],
   "source": [
    "# df.dtypes"
   ]
  },
  {
   "cell_type": "code",
   "execution_count": 31,
   "id": "2657f812",
   "metadata": {},
   "outputs": [],
   "source": [
    "# Encoding Female and Male into 0 and 1\n",
    "df['gender'].replace({'Female':1,'Male':0}, inplace=True)"
   ]
  },
  {
   "cell_type": "code",
   "execution_count": 32,
   "id": "bda61342",
   "metadata": {},
   "outputs": [
    {
     "data": {
      "text/plain": [
       "array([1, 0], dtype=int64)"
      ]
     },
     "execution_count": 32,
     "metadata": {},
     "output_type": "execute_result"
    }
   ],
   "source": [
    "df['gender'].unique()"
   ]
  },
  {
   "cell_type": "code",
   "execution_count": 33,
   "id": "52361e6f",
   "metadata": {},
   "outputs": [],
   "source": [
    "# print_unique_column_values(df)"
   ]
  },
  {
   "cell_type": "code",
   "execution_count": 34,
   "id": "b8dee049",
   "metadata": {},
   "outputs": [],
   "source": [
    "# pd.get_dummies(data=df,columns=['InternetService'])"
   ]
  },
  {
   "cell_type": "code",
   "execution_count": 35,
   "id": "81016724",
   "metadata": {},
   "outputs": [],
   "source": [
    "# df.dtypes"
   ]
  },
  {
   "cell_type": "code",
   "execution_count": 36,
   "id": "1fd6b991",
   "metadata": {},
   "outputs": [],
   "source": [
    "# print_unique_column_values(df)"
   ]
  },
  {
   "cell_type": "code",
   "execution_count": 37,
   "id": "87c53785",
   "metadata": {},
   "outputs": [],
   "source": [
    "# pd.get_dummies(data=df,columns=['Contract'])"
   ]
  },
  {
   "cell_type": "code",
   "execution_count": 38,
   "id": "97f19ba5",
   "metadata": {},
   "outputs": [],
   "source": [
    "# pd.get_dummies(data=df,columns=['PaymentMethod'])"
   ]
  },
  {
   "cell_type": "code",
   "execution_count": 39,
   "id": "025e30cd",
   "metadata": {},
   "outputs": [],
   "source": [
    "df_with_dummies=pd.get_dummies(data=df, columns=['InternetService', 'Contract','PaymentMethod'])"
   ]
  },
  {
   "cell_type": "code",
   "execution_count": 40,
   "id": "e275d268",
   "metadata": {},
   "outputs": [],
   "source": [
    "# df_with_dummies.columns"
   ]
  },
  {
   "cell_type": "code",
   "execution_count": 41,
   "id": "c0ad521a",
   "metadata": {},
   "outputs": [],
   "source": [
    "# df_with_dummies.sample(5)"
   ]
  },
  {
   "cell_type": "code",
   "execution_count": 42,
   "id": "04a43adc",
   "metadata": {},
   "outputs": [],
   "source": [
    "# df_with_dummies.dtypes"
   ]
  },
  {
   "cell_type": "code",
   "execution_count": 43,
   "id": "621fc138",
   "metadata": {},
   "outputs": [],
   "source": [
    "# Scaling \n"
   ]
  },
  {
   "cell_type": "code",
   "execution_count": 44,
   "id": "f57c13e6",
   "metadata": {},
   "outputs": [],
   "source": [
    "# for col in df_with_dummies :\n",
    "#     print(f'{col}:{df_with_dummies[col].unique()}')"
   ]
  },
  {
   "cell_type": "code",
   "execution_count": 45,
   "id": "df972c63",
   "metadata": {},
   "outputs": [],
   "source": [
    "cols_to_scale = ['tenure','MonthlyCharges','TotalCharges']"
   ]
  },
  {
   "cell_type": "code",
   "execution_count": 46,
   "id": "db253f19",
   "metadata": {},
   "outputs": [],
   "source": [
    "# min max scaler\n",
    "\n",
    "from sklearn.preprocessing import MinMaxScaler\n",
    "scaler = MinMaxScaler()\n",
    "\n",
    "df_with_dummies[cols_to_scale]=scaler.fit_transform(df_with_dummies[cols_to_scale])"
   ]
  },
  {
   "cell_type": "code",
   "execution_count": 47,
   "id": "1aa1f8c9",
   "metadata": {},
   "outputs": [],
   "source": [
    "# df_with_dummies.sample(2)"
   ]
  },
  {
   "cell_type": "code",
   "execution_count": 48,
   "id": "34830fbd",
   "metadata": {},
   "outputs": [],
   "source": [
    "# for col in df_with_dummies :\n",
    "#     print(f'{col}:{df_with_dummies[col].unique()}')"
   ]
  },
  {
   "cell_type": "code",
   "execution_count": 49,
   "id": "eba5591a",
   "metadata": {},
   "outputs": [],
   "source": [
    "df_X=df_with_dummies.drop('Churn', axis=1)"
   ]
  },
  {
   "cell_type": "code",
   "execution_count": 73,
   "id": "4f35245a",
   "metadata": {},
   "outputs": [],
   "source": [
    "# for col in df_X:\n",
    "#     print(f'{col}:{df_X[col].unique()}')"
   ]
  },
  {
   "cell_type": "code",
   "execution_count": 51,
   "id": "96bd05b4",
   "metadata": {},
   "outputs": [],
   "source": [
    "df_Y=df_with_dummies['Churn']"
   ]
  },
  {
   "cell_type": "code",
   "execution_count": 52,
   "id": "edab3a6c",
   "metadata": {},
   "outputs": [
    {
     "data": {
      "text/plain": [
       "2664    0\n",
       "3369    0\n",
       "Name: Churn, dtype: int64"
      ]
     },
     "execution_count": 52,
     "metadata": {},
     "output_type": "execute_result"
    }
   ],
   "source": [
    "df_Y.sample(2)"
   ]
  },
  {
   "cell_type": "code",
   "execution_count": 53,
   "id": "d5ca2754",
   "metadata": {},
   "outputs": [],
   "source": [
    "# Train Test Split\n",
    "\n",
    "from sklearn.model_selection import train_test_split\n",
    "X_train, X_test, y_train, y_test = train_test_split(df_X, df_Y, test_size=0.25, random_state=5)"
   ]
  },
  {
   "cell_type": "code",
   "execution_count": 77,
   "id": "1affc415",
   "metadata": {},
   "outputs": [],
   "source": [
    "# X_train.shape"
   ]
  },
  {
   "cell_type": "code",
   "execution_count": 76,
   "id": "5295f4e0",
   "metadata": {},
   "outputs": [],
   "source": [
    "# X_test.shape"
   ]
  },
  {
   "cell_type": "code",
   "execution_count": 74,
   "id": "70194e48",
   "metadata": {},
   "outputs": [],
   "source": [
    "# X_train[:10]"
   ]
  },
  {
   "cell_type": "code",
   "execution_count": 75,
   "id": "6ca78e89",
   "metadata": {},
   "outputs": [],
   "source": [
    "# len(X_train.columns)"
   ]
  },
  {
   "cell_type": "code",
   "execution_count": 58,
   "id": "0fe7ea81",
   "metadata": {},
   "outputs": [],
   "source": [
    "import tensorflow as tf\n",
    "from tensorflow import keras"
   ]
  },
  {
   "cell_type": "code",
   "execution_count": 59,
   "id": "6a4ccb36",
   "metadata": {},
   "outputs": [
    {
     "name": "stdout",
     "output_type": "stream",
     "text": [
      "Epoch 1/3\n",
      "165/165 [==============================] - 2s 3ms/step - loss: 0.5219 - accuracy: 0.7425\n",
      "Epoch 2/3\n",
      "165/165 [==============================] - 1s 3ms/step - loss: 0.4356 - accuracy: 0.7928\n",
      "Epoch 3/3\n",
      "165/165 [==============================] - 1s 3ms/step - loss: 0.4193 - accuracy: 0.7986\n"
     ]
    },
    {
     "data": {
      "text/plain": [
       "<keras.callbacks.History at 0x1f99ab4e470>"
      ]
     },
     "execution_count": 59,
     "metadata": {},
     "output_type": "execute_result"
    }
   ],
   "source": [
    "model=keras.Sequential([\n",
    "    # Hidden Layer\n",
    "    keras.layers.Dense(20, input_shape=(26,), activation='relu'),\n",
    "#     keras.layers.Dense(15, activation='relu'),\n",
    "#   # Output Layer\n",
    "    keras.layers.Dense(1, activation='sigmoid'),\n",
    "    \n",
    "])\n",
    "model.compile(optimizer='adam',\n",
    "              loss='binary_crossentropy',\n",
    "              metrics=['accuracy']\n",
    ")  \n",
    "\n",
    "model.fit(X_train, y_train, epochs=3)"
   ]
  },
  {
   "cell_type": "code",
   "execution_count": 60,
   "id": "10000151",
   "metadata": {},
   "outputs": [
    {
     "name": "stdout",
     "output_type": "stream",
     "text": [
      "55/55 [==============================] - 0s 2ms/step - loss: 0.4436 - accuracy: 0.7878\n"
     ]
    },
    {
     "data": {
      "text/plain": [
       "[0.4435786306858063, 0.7878270745277405]"
      ]
     },
     "execution_count": 60,
     "metadata": {},
     "output_type": "execute_result"
    }
   ],
   "source": [
    "model.evaluate(X_test, y_test)"
   ]
  },
  {
   "cell_type": "code",
   "execution_count": 78,
   "id": "be8fc515",
   "metadata": {},
   "outputs": [
    {
     "name": "stdout",
     "output_type": "stream",
     "text": [
      "55/55 [==============================] - 0s 2ms/step\n"
     ]
    }
   ],
   "source": [
    "y_predicted = model.predict(X_test)\n",
    "# y_predicted[:5]"
   ]
  },
  {
   "cell_type": "code",
   "execution_count": 79,
   "id": "758614e3",
   "metadata": {},
   "outputs": [],
   "source": [
    "# y_test[:5]"
   ]
  },
  {
   "cell_type": "code",
   "execution_count": 63,
   "id": "a84fa0a3",
   "metadata": {},
   "outputs": [],
   "source": [
    "y_predicted_final=[]\n",
    "for element in y_predicted:\n",
    "    if(element<=0.5):\n",
    "        y_predicted_final.append(0)\n",
    "    else:\n",
    "        y_predicted_final.append(1)"
   ]
  },
  {
   "cell_type": "code",
   "execution_count": 80,
   "id": "7aad7878",
   "metadata": {},
   "outputs": [],
   "source": [
    "# y_predicted_final[:5]"
   ]
  },
  {
   "cell_type": "code",
   "execution_count": 65,
   "id": "4b381f2d",
   "metadata": {},
   "outputs": [
    {
     "name": "stdout",
     "output_type": "stream",
     "text": [
      "              precision    recall  f1-score   support\n",
      "\n",
      "           0       0.83      0.88      0.86      1267\n",
      "           1       0.64      0.54      0.59       491\n",
      "\n",
      "    accuracy                           0.79      1758\n",
      "   macro avg       0.74      0.71      0.72      1758\n",
      "weighted avg       0.78      0.79      0.78      1758\n",
      "\n"
     ]
    }
   ],
   "source": [
    "# Classification Report \n",
    "from sklearn.metrics import confusion_matrix, classification_report\n",
    "\n",
    "print(classification_report(y_test, y_predicted_final))"
   ]
  },
  {
   "cell_type": "code",
   "execution_count": 66,
   "id": "be47cbee",
   "metadata": {},
   "outputs": [
    {
     "data": {
      "text/plain": [
       "Text(69.0, 0.5, 'Truth')"
      ]
     },
     "execution_count": 66,
     "metadata": {},
     "output_type": "execute_result"
    },
    {
     "data": {
      "image/png": "[encoded data removed]",
      "text/plain": [
       "<Figure size 720x504 with 2 Axes>"
      ]
     },
     "metadata": {
      "needs_background": "light"
     },
     "output_type": "display_data"
    }
   ],
   "source": [
    "# Plotting Confusion Matrix\n",
    "\n",
    "import seaborn as sn\n",
    "cm = tf.math.confusion_matrix(labels=y_test, predictions=y_predicted_final)\n",
    "\n",
    "plt.figure(figsize=(10,7))\n",
    "sn.heatmap(cm, annot=True, fmt='d')\n",
    "plt.xlabel('Predicted')\n",
    "plt.ylabel('Truth')"
   ]
  },
  {
   "cell_type": "code",
   "execution_count": 83,
   "id": "eae56a7c",
   "metadata": {},
   "outputs": [],
   "source": [
    "# Accuracy = Correct Predictions / Total Predictions \n",
    "# ((1121+260)/(1121+260+231+146))*100"
   ]
  },
  {
   "cell_type": "code",
   "execution_count": 68,
   "id": "d9d9c8ce",
   "metadata": {},
   "outputs": [],
   "source": [
    "# Precision \n",
    "# Precision for 0 class = 1121/1121+231 (no. of correct predictions / total predictions where outcome was 0)"
   ]
  },
  {
   "cell_type": "code",
   "execution_count": 82,
   "id": "21650d12",
   "metadata": {},
   "outputs": [],
   "source": [
    "# ((1121)/(1121+231))*100"
   ]
  },
  {
   "cell_type": "code",
   "execution_count": 70,
   "id": "9b805ac0",
   "metadata": {},
   "outputs": [],
   "source": [
    "# Precision \n",
    "# Precision for 1 class = 260/260+146 (no. of correct predictions / total predictions where outcome was 1)"
   ]
  },
  {
   "cell_type": "code",
   "execution_count": 81,
   "id": "5c41d219",
   "metadata": {},
   "outputs": [],
   "source": [
    "# ((260)/(260+146))*100"
   ]
  },
  {
   "cell_type": "code",
   "execution_count": 72,
   "id": "3bb98604",
   "metadata": {},
   "outputs": [],
   "source": [
    "# Recall"
   ]
  },
  {
   "cell_type": "code",
   "execution_count": null,
   "id": "fe0f635c",
   "metadata": {},
   "outputs": [],
   "source": []
  },
  {
   "cell_type": "code",
   "execution_count": null,
   "id": "0ff31ee1",
   "metadata": {},
   "outputs": [],
   "source": []
  },
  {
   "cell_type": "code",
   "execution_count": null,
   "id": "3bfa2ed3",
   "metadata": {},
   "outputs": [],
   "source": []
  },
  {
   "cell_type": "code",
   "execution_count": null,
   "id": "b7aa6899",
   "metadata": {},
   "outputs": [],
   "source": []
  },
  {
   "cell_type": "code",
   "execution_count": null,
   "id": "bc873c75",
   "metadata": {},
   "outputs": [],
   "source": []
  },
  {
   "cell_type": "code",
   "execution_count": null,
   "id": "d1032184",
   "metadata": {},
   "outputs": [],
   "source": []
  },
  {
   "cell_type": "code",
   "execution_count": null,
   "id": "4e77c829",
   "metadata": {},
   "outputs": [],
   "source": []
  },
  {
   "cell_type": "code",
   "execution_count": null,
   "id": "0f70666f",
   "metadata": {},
   "outputs": [],
   "source": []
  },
  {
   "cell_type": "code",
   "execution_count": null,
   "id": "5ac3ad3c",
   "metadata": {},
   "outputs": [],
   "source": []
  },
  {
   "cell_type": "code",
   "execution_count": null,
   "id": "281df758",
   "metadata": {},
   "outputs": [],
   "source": []
  },
  {
   "cell_type": "code",
   "execution_count": null,
   "id": "701a1041",
   "metadata": {},
   "outputs": [],
   "source": []
  },
  {
   "cell_type": "code",
   "execution_count": null,
   "id": "dc7fbae5",
   "metadata": {},
   "outputs": [],
   "source": []
  },
  {
   "cell_type": "code",
   "execution_count": null,
   "id": "9e8243b6",
   "metadata": {},
   "outputs": [],
   "source": []
  }
 ],
 "metadata": {
  "kernelspec": {
   "display_name": "Python 3 (ipykernel)",
   "language": "python",
   "name": "python3"
  },
  "language_info": {
   "codemirror_mode": {
    "name": "ipython",
    "version": 3
   },
   "file_extension": ".py",
   "mimetype": "text/x-python",
   "name": "python",
   "nbconvert_exporter": "python",
   "pygments_lexer": "ipython3",
   "version": "3.11.5"
  }
 },
 "nbformat": 4,
 "nbformat_minor": 5
}
